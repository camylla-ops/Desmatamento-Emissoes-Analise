{
  "cells": [
    {
      "cell_type": "markdown",
      "metadata": {
        "id": "view-in-github",
        "colab_type": "text"
      },
      "source": [
        "<a href=\"https://colab.research.google.com/github/camylla-ops/Projeto-final-/blob/main/C%C3%B3pia_de_Colab_Projeto_Final_.ipynb\" target=\"_parent\"><img src=\"https://colab.research.google.com/assets/colab-badge.svg\" alt=\"Open In Colab\"/></a>"
      ]
    },
    {
      "cell_type": "markdown",
      "metadata": {
        "id": "4tJrpGeAeQeX"
      },
      "source": [
        "Escola: SoulCode Academy\n",
        "\n",
        "Curso: Bootcamp Analista de Dados - Martech - AD2\n",
        "\n",
        "Período: Semana 10 - Projeto Final\n",
        "\n",
        "Professor: Franciane Rodrigues, Douglas Ribeiro e Jonathas Carneiro\n",
        "\n",
        "Alunas: Camila Barcellos, Camylla Oliveira, Maria Eduarda Klug, Ester Beatriz, Heloisa Gasques e Vanessa Monteiro"
      ]
    },
    {
      "cell_type": "markdown",
      "metadata": {
        "id": "mdrOfFKPr1BR"
      },
      "source": [
        "## **Instalação de bibliotecas e importação de módulos**"
      ]
    },
    {
      "cell_type": "code",
      "execution_count": null,
      "metadata": {
        "id": "MdID4knarqEF"
      },
      "outputs": [],
      "source": [
        "#Instalação de pacotes\n",
        "!pip install gcsfs\n",
        "!pip install pygwalker -q"
      ]
    },
    {
      "cell_type": "code",
      "execution_count": null,
      "metadata": {
        "id": "gDwSwEt-r-lE"
      },
      "outputs": [],
      "source": [
        "# Impotação de módulos\n",
        "import os\n",
        "import pandas as pd\n",
        "import numpy as np\n",
        "import matplotlib.pylab as plt\n",
        "import pygwalker as pyg\n",
        "import seaborn as sns\n",
        "from google.cloud import storage"
      ]
    },
    {
      "cell_type": "markdown",
      "metadata": {
        "id": "OwC2oOQSsQ2f"
      },
      "source": [
        "## **Conector para Cloud Storage(Bucket)**"
      ]
    },
    {
      "cell_type": "code",
      "execution_count": null,
      "metadata": {
        "id": "pP9oqCuEsZYF"
      },
      "outputs": [],
      "source": [
        "# CONFIGURANDO DA CHAVE DE SEGURANCA - ACESSO O PROJETO\n",
        "serviceAccount ='/content/copper-stacker-389812-5eede9b1ca41.json'\n",
        "os.environ['GOOGLE_APPLICATION_CREDENTIALS'] = serviceAccount"
      ]
    },
    {
      "cell_type": "code",
      "execution_count": null,
      "metadata": {
        "id": "0-jfYaXXsbAf"
      },
      "outputs": [],
      "source": [
        "# Configurações Google Cloud Storage - ACESSO AO BUCKET - path 1 - efeito estufa\n",
        "client1 = storage.Client()\n",
        "bucket1 = client1.get_bucket('bases-projeto-final')  # Nome da bucket\n",
        "bucket1.blob('Efeito_estufa.xlsx') # Nome do Arquivo\n",
        "path1 = 'gs://bases-projeto-final/desmatamento e efeito estufa/Efeito_estufa.xlsx' # gsutil URI"
      ]
    },
    {
      "cell_type": "code",
      "execution_count": null,
      "metadata": {
        "id": "G9Fe-r2ItrS1"
      },
      "outputs": [],
      "source": [
        "# Abertura da base de dados e cópia de segurança (bucket) - efeito estufa\n",
        "df_estufa = pd.read_excel(path1, header=0)\n",
        "dfback1 = df_estufa.copy()"
      ]
    },
    {
      "cell_type": "code",
      "execution_count": null,
      "metadata": {
        "id": "PTIiDV8O5irQ"
      },
      "outputs": [],
      "source": [
        "# Configurações Google Cloud Storage - ACESSO AO BUCKET - path 2 - desmatamento\n",
        "client2 = storage.Client()\n",
        "bucket2 = client2.get_bucket('bases-projeto-final')  # Nome da bucket\n",
        "bucket2.blob('RAD2022_ALL_Alerts_2019-2022 - SITE.csv') # Nome do Arquivo\n",
        "path2 = 'gs://bases-projeto-final/desmatamento e efeito estufa/RAD2022_ALL_Alerts_2019-2022 - SITE.csv' # gsutil URI"
      ]
    },
    {
      "cell_type": "code",
      "execution_count": null,
      "metadata": {
        "id": "OE7roT3I6kWf"
      },
      "outputs": [],
      "source": [
        "# Abertura da base de dados e cópia de segurança (bucket) - desmatamento\n",
        "df_desmatamento = pd.read_csv(path2,\n",
        "                 sep=';',\n",
        "                 encoding='UTF-8',\n",
        "                 dayfirst = True)\n",
        "dfback2 = df_desmatamento.copy()"
      ]
    },
    {
      "cell_type": "code",
      "execution_count": null,
      "metadata": {
        "id": "t6bZxRzqYpl5"
      },
      "outputs": [],
      "source": [
        "df_desmatamento"
      ]
    },
    {
      "cell_type": "code",
      "execution_count": null,
      "metadata": {
        "id": "d2SXDfZoLCbL"
      },
      "outputs": [],
      "source": [
        "df_desmatamento.columns"
      ]
    },
    {
      "cell_type": "code",
      "execution_count": null,
      "metadata": {
        "id": "iDoOpmUQ-89h"
      },
      "outputs": [],
      "source": [
        "df_desmatamento"
      ]
    },
    {
      "cell_type": "code",
      "execution_count": null,
      "metadata": {
        "id": "e30h87UNZeDo"
      },
      "outputs": [],
      "source": [
        "df_estufa"
      ]
    },
    {
      "cell_type": "markdown",
      "metadata": {
        "id": "4RGuPDo65QmZ"
      },
      "source": [
        "## **TRATAMENTO df_estufa**"
      ]
    },
    {
      "cell_type": "code",
      "execution_count": null,
      "metadata": {
        "id": "spKX5tVfaLX6"
      },
      "outputs": [],
      "source": [
        "df_estufa"
      ]
    },
    {
      "cell_type": "code",
      "execution_count": null,
      "metadata": {
        "id": "RIBeRRKM6SGW"
      },
      "outputs": [],
      "source": [
        "df_estufa.head()"
      ]
    },
    {
      "cell_type": "code",
      "execution_count": null,
      "metadata": {
        "id": "mM-u7dhR51-R"
      },
      "outputs": [],
      "source": [
        "df_estufa.dtypes"
      ]
    },
    {
      "cell_type": "code",
      "execution_count": null,
      "metadata": {
        "id": "Vjcdo83c5Pxs"
      },
      "outputs": [],
      "source": [
        "df_estufa.describe()"
      ]
    },
    {
      "cell_type": "code",
      "execution_count": null,
      "metadata": {
        "id": "YY-Jppef6cWj"
      },
      "outputs": [],
      "source": [
        "# Renomeando/traduzindo as colunas\n",
        "df_estufa.rename(columns={'Year':'ano', 'D_AreaAcc': 'area_desmat_acum',\n",
        "                          'D_Area': 'area_desmat_ano',\n",
        "                          'DEGRAD_Area': 'area_degrad_ano',\n",
        "                          'VR_CO2_1stOrder':'emissao_co2_1',\n",
        "                          'VR_CO2_2ndOrder':'emissao_co2_2',\n",
        "                          'SV_CO2Emission':'emissao_corte_veg_sec',\n",
        "                          'SV_CO2Absorption': 'absorcao_recresc_veg_sec',\n",
        "                          'DEGRAD_CO2Emission': 'emissao_degrad_floresta',\n",
        "                          'DEGRAD_CO2Absorption': 'absorcao_recup_area_degrad',\n",
        "                          'NET_1st_Order': 'balanco_emissoes_1_ordem',\n",
        "                          'NET_2nd_Order': 'balanço_2_ordem)'}, inplace=True)"
      ]
    },
    {
      "cell_type": "code",
      "execution_count": null,
      "metadata": {
        "id": "hUTllulM7PoY"
      },
      "outputs": [],
      "source": [
        "df_estufa"
      ]
    },
    {
      "cell_type": "code",
      "execution_count": null,
      "metadata": {
        "id": "uYFTb1GJBlTh"
      },
      "outputs": [],
      "source": [
        "df_estufa.isna().sum()"
      ]
    },
    {
      "cell_type": "code",
      "execution_count": null,
      "metadata": {
        "id": "GOgXChTmB14o"
      },
      "outputs": [],
      "source": [
        "#Retirada de colunas não utilidades na análise\n",
        "df_estufa.drop(['-','-.1','-.2'], axis=1, inplace=True)"
      ]
    },
    {
      "cell_type": "code",
      "execution_count": null,
      "metadata": {
        "id": "8leQFAXoCtpk"
      },
      "outputs": [],
      "source": [
        "df_estufa"
      ]
    },
    {
      "cell_type": "code",
      "execution_count": null,
      "metadata": {
        "id": "HzaEYVhSDMsY"
      },
      "outputs": [],
      "source": [
        "df_estufa.shape"
      ]
    },
    {
      "cell_type": "code",
      "execution_count": null,
      "metadata": {
        "id": "SYQhw7MaDWCp"
      },
      "outputs": [],
      "source": [
        "df_estufa.dtypes"
      ]
    },
    {
      "cell_type": "code",
      "execution_count": null,
      "metadata": {
        "id": "sW5OrjqmDpDp"
      },
      "outputs": [],
      "source": [
        "df_estufa.info()"
      ]
    },
    {
      "cell_type": "markdown",
      "metadata": {
        "id": "T8Z27Zqw3_b_"
      },
      "source": [
        "##**Dicionário de dados df_estufa**"
      ]
    },
    {
      "cell_type": "markdown",
      "metadata": {
        "id": "EybWNp_M4JvU"
      },
      "source": [
        "**df_estufa**: Estimativa de Emissões dos Gases do Efeito Estufa (GEE) por mudanças de cobertura da terra da Amazônia Legal\n",
        "\n",
        "**Ano**: Anos referentes às estimativas de emissão de gases de efeito estufa (1960-2020)\n",
        "\n",
        "**Area_desmat_acum**: Área Desmatada Acumulada\n",
        "\n",
        "**Area_desmat_ano**:Área desmatada no ano (no desmatamento, a vegetação suprimida)\n",
        "\n",
        "**Area_degrad_ano**: Área degradada no ano (na área degradada, a vegetação permanece, em diferentes estados de degeneração)\n",
        "\n",
        "**Emissao_CO2_1**: Estimativas de 1ª Ordem (que supõe de modo simplificado que 100% das emissões ocorram no momento da mudança de uso/cobertura)\n",
        "\n",
        "**Emissao CO2_2**: Estimativas de 2ª Ordem (que buscam representar o processo gradativo de liberação e absorção do carbono como ocorre de fato)\n",
        "\n",
        "**Emissao_corte_veg_sec**: Emissão de CO2 por corte de vegetação secundária (veg. secundária é a resultante de um processo natural de regeneração da vegetação)\n",
        "\n",
        "**Absorcao_recresc_sec**: Absorção de CO2 por recrescimento de vegetação secundária (resultante de um processo natural de regeneração da vegetação)\n",
        "\n",
        "**Emissao_degrad_floresta**: Emissão de CO2 por degradação da floresta (na área degradada, a vegetação permanece, em diferentes estados de degeneração)\n",
        "\n",
        "**Absorcao_recup_area_degrad**: Absorção de CO2 por recuperação da área degradada\n",
        "\n",
        "**Balanco_emissoes_1_ordem**: Balanço considerando emissões comprometidas (balanço de primeira ordem)\n",
        "\n",
        "**Balanco_segunda_ordem**: Balanço considerando o processo (balanço de segunda ordem)\n"
      ]
    },
    {
      "cell_type": "markdown",
      "metadata": {
        "id": "3hwB_WhlskfS"
      },
      "source": [
        "## **ANÁLISE df_estufa**"
      ]
    },
    {
      "cell_type": "markdown",
      "metadata": {
        "id": "soDZ4Ppm93gM"
      },
      "source": [
        "## **Gráficos | Visualizações df_estufa**"
      ]
    },
    {
      "cell_type": "code",
      "execution_count": null,
      "metadata": {
        "id": "IpJnIisrsvUm"
      },
      "outputs": [],
      "source": [
        "import pygwalker as pyg\n",
        "pyg.walk(df_estufa)"
      ]
    },
    {
      "cell_type": "code",
      "execution_count": null,
      "metadata": {
        "id": "Ja3hcfOBwV3z"
      },
      "outputs": [],
      "source": [
        "df_estufa.dtypes"
      ]
    },
    {
      "cell_type": "code",
      "execution_count": null,
      "metadata": {
        "id": "3oYdeaboyOCh"
      },
      "outputs": [],
      "source": [
        "df_corr = df_estufa.corr(method = 'pearson', numeric_only = True)\n",
        "df_corr"
      ]
    },
    {
      "cell_type": "code",
      "execution_count": null,
      "metadata": {
        "id": "8Dw9owFdyf9w"
      },
      "outputs": [],
      "source": [
        "# Mapa de calor demonstrando a correlação entre colunas estabelecidas em df_novo:\n",
        "sns.heatmap(df_corr)"
      ]
    },
    {
      "cell_type": "code",
      "execution_count": null,
      "metadata": {
        "id": "Ci04KwwT04LP"
      },
      "outputs": [],
      "source": [
        "# Gráfico de linha com a coluna 'ano' no eixo x e 'emissao_co2_1' no eixo y\n",
        "df_estufa.plot(x='ano', y='emissao_co2_1', kind='line')\n",
        "plt.title('Emissão de CO2 (Tipo 1) ao longo dos Anos')\n",
        "plt.xlabel('Ano')\n",
        "plt.ylabel('Emissão de CO2 (Tipo 1)')\n",
        "plt.show()"
      ]
    },
    {
      "cell_type": "code",
      "execution_count": null,
      "metadata": {
        "id": "jtctZAhi6JdF"
      },
      "outputs": [],
      "source": [
        "# Gráfico de área para 'ano' e 'area_desmat_ano'\n",
        "df_estufa.plot(x='ano', y='area_desmat_ano', kind='area')\n",
        "plt.title('Evolução da Área Desmatada Anual')\n",
        "plt.xlabel('Ano')\n",
        "plt.ylabel('Área Desmatada Anual')\n",
        "plt.show()"
      ]
    },
    {
      "cell_type": "code",
      "execution_count": null,
      "metadata": {
        "id": "CDZufqMh4gjc"
      },
      "outputs": [],
      "source": [
        "df_estufa.plot(x='ano', y='area_desmat_acum', kind='line')\n",
        "plt.title('Aumento da área desmatada acum.')\n",
        "plt.xlabel('Ano')\n",
        "plt.ylabel('area_desmat_acum')\n",
        "plt.show()"
      ]
    },
    {
      "cell_type": "code",
      "execution_count": null,
      "metadata": {
        "id": "dfbtLG4k9dsf"
      },
      "outputs": [],
      "source": [
        "# Gráfico de dispersão para 'area_desmat_acum' vs. 'emissao_co2_1'\n",
        "sns.scatterplot(data=df_estufa, x='area_desmat_acum', y='emissao_co2_1')\n",
        "plt.title('Relação entre Área Desmatada Acumulada e Emissão de CO2 (Tipo 1)')\n",
        "plt.xlabel('Área Desmatada Acumulada')\n",
        "plt.ylabel('Emissão de CO2 (Tipo 1)')\n",
        "plt.show()"
      ]
    },
    {
      "cell_type": "markdown",
      "metadata": {
        "id": "TAqRhN92LUjZ"
      },
      "source": [
        "## **TRATAMENTO df_desmatamento**"
      ]
    },
    {
      "cell_type": "code",
      "execution_count": null,
      "metadata": {
        "id": "xxdIU8b6Lp4J"
      },
      "outputs": [],
      "source": [
        "df_desmatamento.info()"
      ]
    },
    {
      "cell_type": "code",
      "execution_count": null,
      "metadata": {
        "id": "ms7Q2x0dMUqW"
      },
      "outputs": [],
      "source": [
        "#Retirada de colunas não utilizadas na análise\n",
        "df_desmatamento.drop(['Unnamed: 84','Unnamed: 85','Unnamed: 86','Unnamed: 87','Unnamed: 88'], axis=1, inplace=True)"
      ]
    },
    {
      "cell_type": "code",
      "execution_count": null,
      "metadata": {
        "id": "qnqdOAejOHQi"
      },
      "outputs": [],
      "source": [
        "# Verificando se os valores são únicos na df_desmatamento\n",
        "df_desmatamento.fonte.is_unique"
      ]
    },
    {
      "cell_type": "code",
      "execution_count": null,
      "metadata": {
        "id": "mULUKcAgNHT_"
      },
      "outputs": [],
      "source": [
        "df_desmatamento"
      ]
    },
    {
      "cell_type": "code",
      "execution_count": null,
      "metadata": {
        "id": "qU7FhwB7OSs3"
      },
      "outputs": [],
      "source": [
        "# Verificando valores distinct na df_desmatamento\n",
        "print(sorted(pd.unique(df_desmatamento['fonte'])))"
      ]
    },
    {
      "cell_type": "code",
      "execution_count": null,
      "metadata": {
        "id": "MUJ7Z4KHVUaw"
      },
      "outputs": [],
      "source": [
        "df_desmatamento.columns"
      ]
    },
    {
      "cell_type": "code",
      "execution_count": null,
      "metadata": {
        "id": "E7sB3l-RW1lV"
      },
      "outputs": [],
      "source": [
        "# Mostrando todas as colunas\n",
        "pd.set_option('display.max_columns', None)\n"
      ]
    },
    {
      "cell_type": "code",
      "execution_count": null,
      "metadata": {
        "id": "fihaota_W7yM"
      },
      "outputs": [],
      "source": [
        "df_desmatamento"
      ]
    },
    {
      "cell_type": "code",
      "execution_count": null,
      "metadata": {
        "id": "JRz4mBeXQaP6"
      },
      "outputs": [],
      "source": [
        "# Renomeando/traduzindo as colunas\n",
        "df_desmatamento.rename(columns={ 'anodetec':'ano',\n",
        "'vpressao':'causador','biome_name':'nome_bioma','biome_area':'area_bioma','indigenous_territories_name':'territorios_indigenas',\n",
        "'legal_amazon_name':'amazonia_legal','legal_amazon_area':'amazonia_legal_area','macro_watersheds_name': 'bacia_hidrografica_nome',\n",
        "'macro_watersheds_area': 'bacia_hidrografica_area','municipalities_name': 'municipio','municipalities_area': 'municipio_area',\n",
        "'rural_properties_count': 'contagem_prop_rurais','rural_properties_area':' prop_rural_area','states_name' : 'estados',\n",
        "'states_area' : 'estados_area','legal_reserve_area' : 'area_reserva_legal'}, inplace=True)"
      ]
    },
    {
      "cell_type": "code",
      "execution_count": null,
      "metadata": {
        "id": "JqjbeOKWgn-3"
      },
      "outputs": [],
      "source": [
        "df_desmatamento"
      ]
    },
    {
      "cell_type": "code",
      "execution_count": null,
      "metadata": {
        "id": "-3RppxB6gxMP"
      },
      "outputs": [],
      "source": [
        "# Selecionando as colunas relevantes para a análise\n",
        "# df_desmatamento2 = df_desmatamento[['causador','nome_bioma','area_bioma','territorios_indigenas','amazonia_legal','amazonia_legal_area','bacia_hidrografica_nome',\n",
        "# 'bacia_hidrografica_area','municipio','municipio_area','contagem_prop_rurais','prop_rural_area','estados','estados_area','area_reserva_legal']]"
      ]
    },
    {
      "cell_type": "code",
      "execution_count": null,
      "metadata": {
        "id": "iy_nz4dJkaP3"
      },
      "outputs": [],
      "source": [
        "# Selecionando colunas relevantes para a análise\n",
        "colunas_selecionadas = ['ano','amazonia_legal_area',\n",
        "                        'areaha','causador','nome_bioma','area_bioma',\n",
        "                        'territorios_indigenas','amazonia_legal',\n",
        "                        'bacia_hidrografica_nome','bacia_hidrografica_area',\n",
        "                        'municipio','municipio_area','contagem_prop_rurais',\n",
        "                        'estados','estados_area','area_reserva_legal']"
      ]
    },
    {
      "cell_type": "code",
      "execution_count": null,
      "metadata": {
        "id": "jFmk972dkrkg"
      },
      "outputs": [],
      "source": [
        "# Criando um novo DataFrame com as colunas relevantes\n",
        "df_desmatamento2 = df_desmatamento[colunas_selecionadas].copy()"
      ]
    },
    {
      "cell_type": "code",
      "execution_count": null,
      "metadata": {
        "id": "7_qk8HLxlEW2"
      },
      "outputs": [],
      "source": [
        "df_desmatamento2"
      ]
    },
    {
      "cell_type": "code",
      "execution_count": null,
      "metadata": {
        "id": "SjrGsd2MlOyx"
      },
      "outputs": [],
      "source": [
        "# Visualizando valores únicos da coluna \"causador\"\n",
        "print(sorted(pd.unique(df_desmatamento2['causador'])))"
      ]
    },
    {
      "cell_type": "code",
      "execution_count": null,
      "metadata": {
        "id": "_CbqzLGKnjcy"
      },
      "outputs": [],
      "source": [
        "# Dicionário de mapeamento para traduzir os valores\n",
        "mapeamento_causador = {\n",
        "    'agriculture': 'agricultura','ilegal_mining': 'mineracao_ilegal',\n",
        "     'mining': 'mineracao','natural_cause': 'causa_natural',\n",
        "    'others': 'outros','urban_expansion': 'expansao_urbana'}"
      ]
    },
    {
      "cell_type": "code",
      "execution_count": null,
      "metadata": {
        "id": "Fr08_4InluAA"
      },
      "outputs": [],
      "source": [
        "# Substituir os valores da coluna 'causador' usando o método replace()\n",
        "df_desmatamento2['causador'] = df_desmatamento2['causador'].replace(mapeamento_causador)"
      ]
    },
    {
      "cell_type": "code",
      "execution_count": null,
      "metadata": {
        "id": "V8S87k8tnrdy"
      },
      "outputs": [],
      "source": [
        "df_desmatamento2"
      ]
    },
    {
      "cell_type": "code",
      "execution_count": null,
      "metadata": {
        "id": "UgXbaqnVoCRi"
      },
      "outputs": [],
      "source": [
        "df_desmatamento2.dtypes"
      ]
    },
    {
      "cell_type": "code",
      "execution_count": null,
      "metadata": {
        "id": "wr2xt-pTpTpX"
      },
      "outputs": [],
      "source": [
        "df_desmatamento2.isna().sum()"
      ]
    },
    {
      "cell_type": "code",
      "execution_count": null,
      "metadata": {
        "id": "G7KHgisxqaFr"
      },
      "outputs": [],
      "source": [
        "# Substituindo os valores nulos da coluna por 0\n",
        "df_desmatamento2['contagem_prop_rurais'].fillna(0, inplace=True)"
      ]
    },
    {
      "cell_type": "code",
      "execution_count": null,
      "metadata": {
        "id": "45aLUEcxoPy5"
      },
      "outputs": [],
      "source": [
        "# Substituindo o tipo da coluna de float para int\n",
        "df_desmatamento2['contagem_prop_rurais'] = df_desmatamento2['contagem_prop_rurais'].astype(int)"
      ]
    },
    {
      "cell_type": "code",
      "execution_count": null,
      "metadata": {
        "id": "l5ALgDN_CLPK"
      },
      "outputs": [],
      "source": [
        "# Convertendo as colunas para o tipo float\n",
        "cols_to_convert = ['areaha','bacia_hidrografica_area', 'municipio_area',\n",
        "                   'estados_area', 'area_reserva_legal', 'area_bioma']\n",
        "\n",
        "for col in cols_to_convert:\n",
        "    df_desmatamento2[col] = pd.to_numeric(df_desmatamento2[col], errors='coerce')\n",
        "\n",
        "# Verificando os tipos de dado após a conversão\n",
        "print(df_desmatamento2.dtypes)"
      ]
    },
    {
      "cell_type": "code",
      "execution_count": null,
      "metadata": {
        "id": "GjojiOstrNOq"
      },
      "outputs": [],
      "source": [
        "df_desmatamento2.dtypes"
      ]
    },
    {
      "cell_type": "code",
      "execution_count": null,
      "metadata": {
        "id": "TiZNK5TB_Ttw"
      },
      "outputs": [],
      "source": [
        "df_desmatamento2"
      ]
    },
    {
      "cell_type": "code",
      "execution_count": null,
      "metadata": {
        "id": "5NCNg7QVH-Ur"
      },
      "outputs": [],
      "source": [
        "# Agrupar por ano e calcular a média da área desmatada, formatando para 2 casas decimais\n",
        "media_desmatada_por_ano = df_desmatamento2.groupby('ano')['areaha'].mean().round(2)\n",
        "\n",
        "# Criar um novo DataFrame com a média de área desmatada por ano\n",
        "df_media_desmatada = pd.DataFrame({'Ano': media_desmatada_por_ano.index, 'Media_Area_Desmatada': media_desmatada_por_ano.values})\n",
        "\n",
        "# Exibir o novo DataFrame\n",
        "df_media_desmatada"
      ]
    },
    {
      "cell_type": "markdown",
      "metadata": {
        "id": "NoNbKjSy-i2a"
      },
      "source": [
        "## **Dicionário de dados df_desmatamento**"
      ]
    },
    {
      "cell_type": "markdown",
      "metadata": {
        "id": "ZHdDORtK7Oq9"
      },
      "source": [
        "**Ano**: O ano em que os dados do desmatamento foram registrados ou coletados.\n",
        "\n",
        "**Amazonia_legal_area**: A área total da região da Amazônia Legal em estudo, que abrange nove estados do Brasil.\n",
        "\n",
        "**Areaha**: A quantidade de área desmatada em hectares (ha) no ano especificado.\n",
        "\n",
        "**Causador**: A causa ou origem do desmatamento.\n",
        "\n",
        "**Nome_bioma**: O nome do bioma em que ocorreu o desmatamento\n",
        "\n",
        "**Area_bioma**: A área total do bioma em estudo.\n",
        "\n",
        "**Territorios_indigenas**: A presença ou impacto do desmatamento em territórios indígenas, que são áreas habitadas por comunidades indígenas.\n",
        "\n",
        "**Amazonia_legal**: Uma indicação se a área do desmatamento está dentro da região da Amazônia Legal.\n",
        "\n",
        "**Amazonia_legal_area**: A área da Amazônia Legal referida.\n",
        "\n",
        "**Bacia_hidrografica_nome**: O nome da bacia hidrográfica na qual ocorreu o desmatamento. As bacias hidrográficas são áreas de drenagem onde a água flui para um rio principal ou corpo de água.\n",
        "\n",
        "**Bacia_hidrografica_area**: A área total da bacia hidrográfica em estudo.\n",
        "\n",
        "**Municipio**: O município onde ocorreu o desmatamento.\n",
        "\n",
        "**Municipio_area**: A área total do município em estudo.\n",
        "\n",
        "**Contagem_prop_rurais**: O número de propriedades rurais envolvidas no desmatamento.\n",
        "\n",
        "**Estados**: Os estados do Brasil nos quais ocorreu o desmatamento.\n",
        "\n",
        "**Estados_area**: A área total dos estados em estudo.\n",
        "\n",
        "**Area_reserva_legal**: A área destinada a reservas legais, que são áreas de preservação obrigatórias em propriedades rurais no Brasil.\n"
      ]
    },
    {
      "cell_type": "markdown",
      "metadata": {
        "id": "UiKOI0Ga-BFA"
      },
      "source": [
        "## **ANÁLISE df_desmatamento**"
      ]
    },
    {
      "cell_type": "markdown",
      "metadata": {
        "id": "m-0Qz8OE-LWs"
      },
      "source": [
        "## **Gráficos | Visualizações df_desmatamento**"
      ]
    },
    {
      "cell_type": "code",
      "execution_count": null,
      "metadata": {
        "id": "Xsq5oU-0-DD-"
      },
      "outputs": [],
      "source": [
        "# Gráfico de barras para contar a frequência dos valores únicos na coluna 'causador'\n",
        "df_desmatamento2['causador'].value_counts().plot(kind='bar')\n",
        "plt.title('Contagem dos Causadores do Desmatamento')\n",
        "plt.xlabel('Causador')\n",
        "plt.ylabel('Contagem')\n",
        "plt.show()"
      ]
    },
    {
      "cell_type": "code",
      "execution_count": null,
      "metadata": {
        "id": "m9QiEisAFil3"
      },
      "outputs": [],
      "source": [
        "# Gráfico de barras agrupado para visualizar o causador do desmatamento por estado\n",
        "plt.figure(figsize=(12, 6))\n",
        "sns.countplot(data=df_desmatamento2, x='estados', hue='causador', palette='Set2')\n",
        "plt.title('Causador do Desmatamento por Estado')\n",
        "plt.xlabel('Estado')\n",
        "plt.ylabel('Contagem')\n",
        "plt.legend(title='Causador', bbox_to_anchor=(1, 1))\n",
        "plt.xticks(rotation=45, ha='right')\n",
        "plt.tight_layout()\n",
        "plt.show()\n"
      ]
    },
    {
      "cell_type": "code",
      "execution_count": null,
      "metadata": {
        "id": "o8Qw0-M1EgpU"
      },
      "outputs": [],
      "source": [
        "# Gráfico de barras para 'estados' e 'contagem_prop_rurais'\n",
        "df_desmatamento2.groupby('estados')['contagem_prop_rurais'].sum().plot(kind='bar')\n",
        "plt.title('Contagem de Propriedades Rurais por Estado')\n",
        "plt.xlabel('Estado')\n",
        "plt.ylabel('Contagem de Propriedades Rurais')\n",
        "plt.show()"
      ]
    },
    {
      "cell_type": "code",
      "execution_count": null,
      "metadata": {
        "id": "IS3XUYSEEnwx"
      },
      "outputs": [],
      "source": [
        "# Gráfico de barras para 'nome_bioma' e 'area_bioma'\n",
        "df_desmatamento2.groupby('nome_bioma')['area_bioma'].sum().plot(kind='bar')\n",
        "plt.title('Área Desmatada em Diferentes Biomas')\n",
        "plt.xlabel('Bioma')\n",
        "plt.ylabel('Área Desmatada')\n",
        "plt.show()\n"
      ]
    },
    {
      "cell_type": "code",
      "execution_count": null,
      "metadata": {
        "id": "uxKm_F7BIe3V"
      },
      "outputs": [],
      "source": [
        "# Filtrar os municípios com maior área de desmatamento acumulada\n",
        "top_municipios = df_desmatamento2.groupby(['estados', 'municipio'])['areaha'].sum().nlargest(10)\n",
        "\n",
        "# Converter a série de municípios em um DataFrame para facilitar o acesso aos dados\n",
        "top_municipios_df = top_municipios.reset_index()\n",
        "\n",
        "# Gráfico de barras verticais para visualizar os municípios mais devastados\n",
        "plt.figure(figsize=(10, 6))\n",
        "sns.barplot(x='municipio', y='areaha', hue='estados', data=top_municipios_df, palette='tab20c')\n",
        "plt.title('Municípios Mais Devastados (Top 10)')\n",
        "plt.xlabel('Município')\n",
        "plt.ylabel('Área de Desmatamento')\n",
        "plt.xticks(rotation=45, ha='right')\n",
        "plt.legend(title='Estado', bbox_to_anchor=(1, 1))\n",
        "plt.tight_layout()\n",
        "plt.show()"
      ]
    },
    {
      "cell_type": "markdown",
      "metadata": {
        "id": "bZ_kKdGlLaDa"
      },
      "source": [
        "## **Carregamento base tratada**"
      ]
    },
    {
      "cell_type": "code",
      "execution_count": null,
      "metadata": {
        "id": "QDCKHOrYRLNB"
      },
      "outputs": [],
      "source": [
        "Desmatamento2 = pd.DataFrame(df_desmatamento2)"
      ]
    },
    {
      "cell_type": "code",
      "execution_count": null,
      "metadata": {
        "id": "P7mWD8rJLfEs"
      },
      "outputs": [],
      "source": [
        "#Google Cloud - desmatamento\n",
        "caminho_local_arquivo_tratado = 'gs://bases-projeto-final/bases-tratadas/df_desmatamento2.csv'\n",
        "df_desmatamento2.to_csv(caminho_local_arquivo_tratado, index=False)"
      ]
    },
    {
      "cell_type": "code",
      "execution_count": null,
      "metadata": {
        "id": "UgvaVGcbY5SQ"
      },
      "outputs": [],
      "source": [
        "df_estufa2 =pd.DataFrame(df_estufa)"
      ]
    },
    {
      "cell_type": "code",
      "execution_count": null,
      "metadata": {
        "id": "F4Fc0OoAZVrZ"
      },
      "outputs": [],
      "source": [
        "#Google Cloud - efeito estufa\n",
        "caminho_local_arquivo_tratado2 = 'gs://bases-projeto-final/bases-tratadas/df_estufa2.xlsx'\n",
        "df_estufa2.to_excel(caminho_local_arquivo_tratado2, index=False)"
      ]
    },
    {
      "cell_type": "code",
      "execution_count": null,
      "metadata": {
        "id": "kwBIpxU3E6J8"
      },
      "outputs": [],
      "source": [
        "#Google Cloud - média desmatamento ano\n",
        "caminho_local_arquivo_tratado3 = 'gs://bases-projeto-final/bases-tratadas/df_media_desmatada.csv'\n",
        "df_media_desmatada.to_csv(caminho_local_arquivo_tratado3, index=False)"
      ]
    },
    {
      "cell_type": "markdown",
      "metadata": {
        "id": "u69V6DswknYG"
      },
      "source": [
        "## **MongoDB**"
      ]
    },
    {
      "cell_type": "code",
      "execution_count": null,
      "metadata": {
        "id": "uf6MxZLikmpk"
      },
      "outputs": [],
      "source": [
        "# Instalando bibliotecas necessárias\n",
        "!pip install pandas pymongo\n",
        "!pip install pymongo --upgrade\n",
        "from pymongo import MongoClient"
      ]
    },
    {
      "cell_type": "code",
      "execution_count": null,
      "metadata": {
        "id": "geNCtvZcmFKj"
      },
      "outputs": [],
      "source": [
        "# Conector MongoDB\n",
        "uri = 'mongodb+srv://cluster0.s2nanef.mongodb.net/?authSource=%24external&authMechanism=MONGODB-X509&retryWrites=true&w=majority' # Faça a cópia do Seu CÓDIGO URI\n",
        "client = MongoClient(uri, tls=True, tlsCertificateKeyFile='/content/X509-cert-6982750129818228918.pem') # Colque SUA CHAVE"
      ]
    },
    {
      "cell_type": "code",
      "execution_count": null,
      "metadata": {
        "id": "yxSTzD6aCUxh"
      },
      "outputs": [],
      "source": [
        "# Escolhendo a base de dados e coleção\n",
        "db = client['pandasmongo']\n",
        "collection_df_estufa2 = db['collection_df_estufa2']"
      ]
    },
    {
      "cell_type": "code",
      "execution_count": null,
      "metadata": {
        "id": "MbenLKIVCj2T"
      },
      "outputs": [],
      "source": [
        "# Escolhendo a 2ª base de dados e coleção\n",
        "db2 = client['pandasmongo']\n",
        "collection_df_desmatamento2 = db2['collection_df_desmanatamento2']"
      ]
    },
    {
      "cell_type": "code",
      "execution_count": null,
      "metadata": {
        "id": "Wt_0H_rnDEd4"
      },
      "outputs": [],
      "source": [
        "# Contagem dos documentos\n",
        "doc_count = collection_df_estufa2.count_documents({})\n",
        "print(doc_count)"
      ]
    },
    {
      "cell_type": "code",
      "execution_count": null,
      "metadata": {
        "id": "MxepbiRODhAF"
      },
      "outputs": [],
      "source": [
        "# Contagem dos documentos (2ª base)\n",
        "doc_count = collection_df_desmatamento2.count_documents({})\n",
        "print(doc_count)"
      ]
    },
    {
      "cell_type": "code",
      "execution_count": null,
      "metadata": {
        "id": "R-JuLI3PFCV6"
      },
      "outputs": [],
      "source": [
        "# Conversão para colocar no MongoDB\n",
        "df_estufa2_dict = df_estufa2.to_dict(\"records\")\n",
        "collection_df_estufa2.insert_many(df_estufa2_dict)"
      ]
    },
    {
      "cell_type": "code",
      "execution_count": null,
      "metadata": {
        "id": "GFJKjk8uGZ1m"
      },
      "outputs": [],
      "source": [
        "# Conversão para colocar no MongoDB (2ª base)\n",
        "df_desmatamento2_dict = df_desmatamento2.to_dict(\"records\")\n",
        "collection_df_desmatamento2.insert_many(df_desmatamento2_dict)"
      ]
    },
    {
      "cell_type": "code",
      "execution_count": null,
      "metadata": {
        "id": "4praFSUWHI35"
      },
      "outputs": [],
      "source": [
        "# Checagem de valores no MongoDB\n",
        "collection_df_estufa2.count_documents({})"
      ]
    },
    {
      "cell_type": "code",
      "execution_count": null,
      "metadata": {
        "id": "KuNU9fWbHmkl"
      },
      "outputs": [],
      "source": [
        "# Checagem de valores no MongoDB\n",
        "collection_df_desmatamento2.count_documents({})"
      ]
    },
    {
      "cell_type": "markdown",
      "metadata": {
        "id": "kixYZPOTe7Vr"
      },
      "source": [
        "## **PySpark**"
      ]
    },
    {
      "cell_type": "code",
      "execution_count": null,
      "metadata": {
        "id": "z2o6VCrYVkad"
      },
      "outputs": [],
      "source": [
        "!pip install pyspark"
      ]
    },
    {
      "cell_type": "code",
      "execution_count": null,
      "metadata": {
        "id": "itzBLuOghP-e"
      },
      "outputs": [],
      "source": [
        "#instalando os requisitos necessarios\n",
        "!apt-get install openjdk-8-jdk-headless -qq > /dev/null   # Instalando o JAVA\n",
        "!wget -q http://archive.apache.org/dist/spark/spark-3.1.1/spark-3.1.1-bin-hadoop3.2.tgz   # Instalando o spark\n",
        "!tar xf spark-3.1.1-bin-hadoop3.2.tgz   # Descompactando os arquivos\n",
        "!pip install -q findspark  #"
      ]
    },
    {
      "cell_type": "code",
      "execution_count": null,
      "metadata": {
        "id": "s_Pir_6AhbHL"
      },
      "outputs": [],
      "source": [
        "import os\n",
        "os.environ[\"JAVA_HOME\"] = \"/usr/lib/jvm/java-8-openjdk-amd64\"   # Definindo a variável do ambiente JAVA\n",
        "os.environ[\"SPARK_HOME\"] = \"/content/spark-3.1.1-bin-hadoop3.2\" # Definindo a variável do ambiente spark"
      ]
    },
    {
      "cell_type": "code",
      "execution_count": null,
      "metadata": {
        "id": "mrprbikGJdJG"
      },
      "outputs": [],
      "source": [
        "import findspark\n",
        "findspark.init()\n",
        "from pyspark.sql import SparkSession\n",
        "from pyspark.sql.types import StructType, StructField, DoubleType, IntegerType, StringType\n",
        "spark = SparkSession.builder.master(\"local[*]\").getOrCreate()\n",
        "from pyspark.sql.functions import regexp_replace\n",
        "spark.conf.set(\"spark.sql.repl.eagerEval.enabled\", True) # Para deixar a visualição das tabelas mais amigável\n",
        "spark"
      ]
    },
    {
      "cell_type": "code",
      "execution_count": null,
      "metadata": {
        "id": "tsjnJH9KhQuy"
      },
      "outputs": [],
      "source": [
        "#importando arquivo csv para o colab\n",
        "df_desmatamento2.to_csv(\"desmatamento_py\")"
      ]
    },
    {
      "cell_type": "code",
      "execution_count": null,
      "metadata": {
        "id": "TkB0hX6WeeTN"
      },
      "outputs": [],
      "source": [
        "#lendo arquivo csv\n",
        "df = spark.read.csv(\"/content/desmatamento_py\", sep=',',\n",
        "                       inferSchema=True, header=True, encoding='utf-8')"
      ]
    },
    {
      "cell_type": "code",
      "execution_count": null,
      "metadata": {
        "id": "gewj4geZfzWp"
      },
      "outputs": [],
      "source": [
        "df.show()"
      ]
    },
    {
      "cell_type": "code",
      "execution_count": null,
      "metadata": {
        "id": "CgP0XZplnVxr"
      },
      "outputs": [],
      "source": [
        "#mostra tipo de dado das colunas\n",
        "df.printSchema()"
      ]
    },
    {
      "cell_type": "code",
      "execution_count": null,
      "metadata": {
        "id": "2CBI4qsdoDp0"
      },
      "outputs": [],
      "source": [
        "df.describe() #medidas descritivas de count, mean, stddev, min, max"
      ]
    },
    {
      "cell_type": "code",
      "execution_count": null,
      "metadata": {
        "id": "4H8Zz34aoOmF"
      },
      "outputs": [],
      "source": [
        "df.orderBy(\"causador\",ascending=True) # ordena df por coluna específica"
      ]
    },
    {
      "cell_type": "code",
      "execution_count": null,
      "metadata": {
        "id": "nWRWvuB58Y_4"
      },
      "outputs": [],
      "source": [
        "print(f'({df.count()}, {len(df.columns)})') # Visualizando a dimensão do DataFrame"
      ]
    },
    {
      "cell_type": "code",
      "execution_count": null,
      "metadata": {
        "id": "YFbVWQZ28rkh"
      },
      "outputs": [],
      "source": [
        "df.collect()[0] # Lendo a 1ª linha do DataFrame"
      ]
    }
  ],
  "metadata": {
    "colab": {
      "collapsed_sections": [
        "OwC2oOQSsQ2f",
        "T8Z27Zqw3_b_",
        "TAqRhN92LUjZ",
        "NoNbKjSy-i2a",
        "kixYZPOTe7Vr"
      ],
      "provenance": [],
      "include_colab_link": true
    },
    "kernelspec": {
      "display_name": "Python 3",
      "name": "python3"
    },
    "language_info": {
      "name": "python"
    }
  },
  "nbformat": 4,
  "nbformat_minor": 0
}